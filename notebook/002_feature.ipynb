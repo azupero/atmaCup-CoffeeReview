{
 "metadata": {
  "language_info": {
   "codemirror_mode": {
    "name": "ipython",
    "version": 3
   },
   "file_extension": ".py",
   "mimetype": "text/x-python",
   "name": "python",
   "nbconvert_exporter": "python",
   "pygments_lexer": "ipython3",
   "version": "3.8.6-final"
  },
  "orig_nbformat": 2,
  "kernelspec": {
   "name": "python3",
   "display_name": "Python 3.8.6 64-bit ('.venv')",
   "metadata": {
    "interpreter": {
     "hash": "c4b7f78d54a1539e5b6bc0698abe65ca68246a5fc20d2ad180617c968828efef"
    }
   }
  }
 },
 "nbformat": 4,
 "nbformat_minor": 2,
 "cells": [
  {
   "source": [
    "# 002 feature engineering and validation"
   ],
   "cell_type": "markdown",
   "metadata": {}
  },
  {
   "source": [
    "## import modules"
   ],
   "cell_type": "markdown",
   "metadata": {}
  },
  {
   "cell_type": "code",
   "execution_count": 1,
   "metadata": {},
   "outputs": [],
   "source": [
    "import numpy as np\n",
    "import pandas as pd\n",
    "from matplotlib import pyplot as plt\n",
    "import seaborn as sns\n",
    "from plotly import express as px\n",
    "from sklearn.model_selection import KFold\n",
    "\n",
    "import mlflow\n",
    "from hydra.experimental import initialize, compose\n",
    "from omegaconf import DictConfig\n",
    "from pathlib import Path\n",
    "\n",
    "import category_encoders as ce\n",
    "from xfeat import TargetEncoder\n",
    "\n",
    "import os\n",
    "import sys\n",
    "sys.path.append('../src')\n",
    "import utils\n",
    "import feature\n",
    "import preprocess\n",
    "\n",
    "pd.options.display.max_columns = 100"
   ]
  },
  {
   "source": [
    "## config"
   ],
   "cell_type": "markdown",
   "metadata": {}
  },
  {
   "cell_type": "code",
   "execution_count": 2,
   "metadata": {},
   "outputs": [],
   "source": [
    "# hydra\n",
    "with initialize(config_path='../config'):\n",
    "    cfg = compose(config_name=\"exp_002.yaml\")"
   ]
  },
  {
   "source": [
    "## load dataset"
   ],
   "cell_type": "markdown",
   "metadata": {}
  },
  {
   "cell_type": "code",
   "execution_count": null,
   "metadata": {},
   "outputs": [],
   "source": [
    "train, test, submission = utils.load_dataset(cfg)\n",
    "\n",
    "display(train.head())\n",
    "display(test.head())\n",
    "display(submission.head())"
   ]
  },
  {
   "cell_type": "code",
   "execution_count": null,
   "metadata": {},
   "outputs": [],
   "source": [
    "df_tr = pd.DataFrame(\n",
    "    {\n",
    "        'cat': [\n",
    "            'mao', 'rena', np.nan, 'mao', 'rena', 'mao', 'ririmu',\n",
    "        ]\n",
    "    }\n",
    ")\n",
    "\n",
    "df_te = pd.DataFrame(\n",
    "    {\n",
    "        'cat': [\n",
    "            'mao', 'ririmu', np.nan, 'rena', 'ange',\n",
    "        ]\n",
    "    }\n",
    ")\n",
    "display(df_tr)\n",
    "display(df_te)"
   ]
  },
  {
   "cell_type": "code",
   "execution_count": null,
   "metadata": {},
   "outputs": [],
   "source": [
    "cols = ['cat']\n",
    "enc = feature.OneHotEncodingBlock(cols=cols)\n",
    "enc.fit(df_tr)\n",
    "enc_tr = enc.transform(df_tr)\n",
    "enc_te = enc.transform(df_te)\n",
    "df_tr_ = pd.concat([df_tr[cols], enc_tr], axis=1)\n",
    "df_te_ = pd.concat([df_te[cols], enc_te], axis=1)\n",
    "# df_te_['cat_OHE_'] = '1_' + df_te_['cat_OHE'].astype(str)\n",
    "display(df_tr_)\n",
    "display(df_te_)"
   ]
  },
  {
   "source": [
    "## preprocessing"
   ],
   "cell_type": "markdown",
   "metadata": {}
  },
  {
   "cell_type": "code",
   "execution_count": null,
   "metadata": {},
   "outputs": [],
   "source": [
    "train, test = preprocess.to_preprocess(cfg, train, test)"
   ]
  },
  {
   "source": [
    "## feature engineering"
   ],
   "cell_type": "markdown",
   "metadata": {}
  },
  {
   "cell_type": "code",
   "execution_count": null,
   "metadata": {},
   "outputs": [],
   "source": [
    "# X_train, X_test = feature.to_features(train, test)\n",
    "# y_train = train[cfg['training']['targets']]\n",
    "y_train = train[cfg['training']['targets']]\n",
    "\n",
    "X_train.head()"
   ]
  },
  {
   "source": [
    "## CV"
   ],
   "cell_type": "markdown",
   "metadata": {}
  },
  {
   "cell_type": "code",
   "execution_count": null,
   "metadata": {},
   "outputs": [],
   "source": [
    "X_train = utils.get_group_k_fold(cfg, train)\n",
    "X_train.head()"
   ]
  },
  {
   "cell_type": "code",
   "execution_count": null,
   "metadata": {},
   "outputs": [],
   "source": [
    "# Target Encoding\n",
    "cols = ['variety_OE', 'region_OE']\n",
    "group = [['variety_OE', 'processing_method_OE', 'region_OE']]\n",
    "target = 'aroma'\n",
    "splitter = KFold(n_splits=3, shuffle=True, random_state=42)\n",
    "\n",
    "encoder = feature.TargetEncodingBlock(cols=cols, group_cols=group, target=target, splitter=splitter)\n",
    "output_tr = encoder.fit_transform(X_train, y_train)\n",
    "output_te = encoder.transform(X_train, y_train, X_test)\n",
    "display(output_tr)\n",
    "display(output_te)"
   ]
  },
  {
   "cell_type": "code",
   "execution_count": null,
   "metadata": {},
   "outputs": [],
   "source": [
    "# aggregation\n",
    "class GroupingBlock(feature.BaseBlock):\n",
    "    def __init__(self, cat_cols, target_cols, methods):\n",
    "        self.cat_cols = cat_cols\n",
    "        self.target_cols = target_cols\n",
    "        self.methods = methods\n",
    "\n",
    "        self.df = None\n",
    "        self.a_cat = None\n",
    "\n",
    "    def fit(self, input_df, y=None):\n",
    "        self.df = [self._agg(input_df, target_col) for target_col in self.target_cols]\n",
    "        self.df = pd.concat(self.df, axis=1)\n",
    "        self.df[self.cat_cols] = self.a_cat[self.cat_cols]\n",
    "\n",
    "    def transform(self, input_df):\n",
    "        output_df = pd.merge(\n",
    "            input_df[self.cat_cols], self.df, on=self.cat_cols, how=\"left\"\n",
    "        )\n",
    "        output_df = output_df.drop(columns=self.cat_cols, axis=1)\n",
    "        return output_df\n",
    "\n",
    "    def _agg(self, input_df, target_col):\n",
    "        _df = input_df.groupby(self.cat_cols, as_index=False).agg(\n",
    "            {target_col: self.methods}\n",
    "        )\n",
    "        cols = self.cat_cols + [\n",
    "            f\"agg_{method}_{'_and_'.join(self.cat_cols)}_by_{target_col}\"\n",
    "            for method in self.methods\n",
    "        ]\n",
    "        _df.columns = cols\n",
    "        self.a_cat = _df[self.cat_cols]\n",
    "        return _df.drop(columns=self.cat_cols, axis=1)"
   ]
  },
  {
   "cell_type": "code",
   "execution_count": null,
   "metadata": {},
   "outputs": [],
   "source": [
    "cat_cols = ['countryof_origin_OE']\n",
    "target_cols = ['processing_method_OE']\n",
    "methods = ['mean']\n",
    "enc = GroupingBlock(cat_cols, target_cols, methods)\n",
    "enc.fit(X_train)\n",
    "output_tr = enc.transform(X_train)\n",
    "output_te = enc.transform(X_test)\n",
    "output_te.head(10)"
   ]
  },
  {
   "cell_type": "code",
   "execution_count": null,
   "metadata": {},
   "outputs": [],
   "source": []
  }
 ]
}